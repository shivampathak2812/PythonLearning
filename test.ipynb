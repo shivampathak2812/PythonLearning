{
 "cells": [
  {
   "cell_type": "code",
   "execution_count": 5,
   "id": "20cef813",
   "metadata": {},
   "outputs": [
    {
     "name": "stdout",
     "output_type": "stream",
     "text": [
      "Shivam\n",
      "Pathak\n"
     ]
    }
   ],
   "source": [
    "## Basic Syntax rule in python\n",
    "## Case Sensitivity- Python is case sensitive\n",
    "\n",
    "name=\"Shivam\"\n",
    "Name=\"Pathak\"\n",
    "\n",
    "print(name)\n",
    "print(Name)\n"
   ]
  },
  {
   "cell_type": "code",
   "execution_count": 6,
   "id": "50c20201",
   "metadata": {},
   "outputs": [
    {
     "name": "stdout",
     "output_type": "stream",
     "text": [
      "Adult\n",
      "32\n"
     ]
    }
   ],
   "source": [
    "## Indentation\n",
    "\n",
    "age = 32\n",
    "if age>30:\n",
    "    print(\"Adult\")\n",
    "print(age)"
   ]
  },
  {
   "cell_type": "code",
   "execution_count": 7,
   "id": "d64b80ab",
   "metadata": {},
   "outputs": [
    {
     "name": "stdout",
     "output_type": "stream",
     "text": [
      "hello world\n"
     ]
    }
   ],
   "source": [
    "## This is single line is comment\n",
    "print(\"hello world\")"
   ]
  },
  {
   "cell_type": "code",
   "execution_count": 9,
   "id": "defb70b0",
   "metadata": {},
   "outputs": [
    {
     "name": "stdout",
     "output_type": "stream",
     "text": [
      "43\n"
     ]
    }
   ],
   "source": [
    "## line comtinuation\n",
    "\n",
    "total=1+2+3+4+5+6+7+\\\n",
    "4+5+6\n",
    "\n",
    "print(total)"
   ]
  },
  {
   "cell_type": "code",
   "execution_count": 10,
   "id": "80410fd0",
   "metadata": {},
   "outputs": [
    {
     "name": "stdout",
     "output_type": "stream",
     "text": [
      "10.0\n"
     ]
    }
   ],
   "source": [
    "## MUktiple statement on a single line\n",
    "x=5.;y=5;z=x+y\n",
    "print(z)"
   ]
  },
  {
   "cell_type": "code",
   "execution_count": 11,
   "id": "fccf5e06",
   "metadata": {},
   "outputs": [],
   "source": [
    "## understanding semamtic in python\n",
    "## variable assigmnent\n",
    "\n",
    "age =32\n",
    "name=\"shivam\""
   ]
  },
  {
   "cell_type": "code",
   "execution_count": null,
   "id": "6bd23220",
   "metadata": {},
   "outputs": [
    {
     "data": {
      "text/plain": [
       "int"
      ]
     },
     "execution_count": 12,
     "metadata": {},
     "output_type": "execute_result"
    }
   ],
   "source": [
    "## Type inference\n",
    "type(age)"
   ]
  },
  {
   "cell_type": "code",
   "execution_count": 13,
   "id": "f103caf2",
   "metadata": {},
   "outputs": [
    {
     "data": {
      "text/plain": [
       "str"
      ]
     },
     "execution_count": 13,
     "metadata": {},
     "output_type": "execute_result"
    }
   ],
   "source": [
    "type(name)"
   ]
  },
  {
   "cell_type": "code",
   "execution_count": 15,
   "id": "5efd3188",
   "metadata": {},
   "outputs": [
    {
     "name": "stdout",
     "output_type": "stream",
     "text": [
      "32\n"
     ]
    }
   ],
   "source": [
    "age =32\n",
    "if age>30:\n",
    "    print(age)"
   ]
  },
  {
   "cell_type": "code",
   "execution_count": 18,
   "id": "b4f2d5aa",
   "metadata": {},
   "outputs": [
    {
     "name": "stdout",
     "output_type": "stream",
     "text": [
      "correct explanation\n",
      "this will print\n",
      "outside the indentation\n"
     ]
    }
   ],
   "source": [
    "if True:\n",
    "    print(\"correct explanation\")\n",
    "    if False:\n",
    "        print(\"incorrect expalanation\")\n",
    "    print(\"this will print\")\n",
    "print(\"outside the indentation\")"
   ]
  },
  {
   "cell_type": "code",
   "execution_count": null,
   "id": "4be3d50b",
   "metadata": {},
   "outputs": [],
   "source": []
  }
 ],
 "metadata": {
  "language_info": {
   "name": "python"
  }
 },
 "nbformat": 4,
 "nbformat_minor": 5
}
